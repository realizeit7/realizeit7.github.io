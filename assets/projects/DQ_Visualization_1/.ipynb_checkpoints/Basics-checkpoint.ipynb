{
 "cells": [
  {
   "cell_type": "markdown",
   "metadata": {
    "collapsed": true
   },
   "source": [
    "# Data visualization\n",
    "## -Earnings based on college majors"
   ]
  },
  {
   "cell_type": "code",
   "execution_count": 1,
   "metadata": {},
   "outputs": [
    {
     "name": "stdout",
     "output_type": "stream",
     "text": [
      "173\n",
      "172\n"
     ]
    }
   ],
   "source": [
    "import pandas as pd\n",
    "import matplotlib.pyplot as plt\n",
    "recent_grads=pd.read_csv(\"recent-grads.csv\") #Importing data\n",
    "recent_grads.iloc[0] #show first row\n",
    "recent_grads.head()  #first 5 row\n",
    "recent_grads.tail()  #last 5 row\n",
    "recent_grads.describe() #summary stats\n",
    "raw_data_count=recent_grads.shape[0] # number of rows\n",
    "print(raw_data_count)\n",
    "recent_grads=recent_grads.dropna() #droping rows with missing\n",
    "cleaned_data_count=recent_grads.shape[0]\n",
    "print(cleaned_data_count)"
   ]
  },
  {
   "cell_type": "markdown",
   "metadata": {},
   "source": [
    "#### There is only one row with missing value."
   ]
  },
  {
   "cell_type": "markdown",
   "metadata": {},
   "source": [
    "### Scatter plots to explore data. "
   ]
  },
  {
   "cell_type": "code",
   "execution_count": 2,
   "metadata": {},
   "outputs": [
    {
     "data": {
      "text/plain": [
       "<matplotlib.text.Text at 0x7ff89630b160>"
      ]
     },
     "execution_count": 2,
     "metadata": {},
     "output_type": "execute_result"
    }
   ],
   "source": [
    "recent_grads.plot(x='Sample_size', y='Median', kind='scatter')\n",
    "ax = recent_grads.plot(x='Sample_size', y='Median', kind='scatter')\n",
    "ax.set_title('Median vs. Sample_size')\n",
    "\n",
    "recent_grads.plot(x='Sample_size', y='Unemployment_rate', kind='scatter')\n",
    "ax = recent_grads.plot(x='Sample_size', y='Unemployment_rate', kind='scatter')\n",
    "ax.set_title('Unemployment_rate vs. Sample_size')\n",
    "\n",
    "recent_grads.plot(x='Full_time', y='Median', kind='scatter')\n",
    "ax = recent_grads.plot(x='Full_time', y='Median', kind='scatter')\n",
    "ax.set_title('Median vs. Full_time')\n",
    "\n",
    "recent_grads.plot(x='ShareWomen', y='Unemployment_rate', kind='scatter')\n",
    "ax = recent_grads.plot(x='ShareWomen', y='Unemployment_rate', kind='scatter')\n",
    "ax.set_title('Unemployment_rate vs. ShareWomen')\n",
    "\n",
    "recent_grads.plot(x='Men', y='Median', kind='scatter')\n",
    "ax = recent_grads.plot(x='Men', y='Median', kind='scatter')\n",
    "ax.set_title('Median vs. Men')\n",
    "\n",
    "recent_grads.plot(x='Women', y='Median', kind='scatter')\n",
    "ax = recent_grads.plot(x='Women', y='Median', kind='scatter')\n",
    "ax.set_title('Median vs. Women')"
   ]
  },
  {
   "cell_type": "markdown",
   "metadata": {},
   "source": [
    "### Histogram for each variables"
   ]
  },
  {
   "cell_type": "code",
   "execution_count": null,
   "metadata": {},
   "outputs": [],
   "source": []
  },
  {
   "cell_type": "code",
   "execution_count": 3,
   "metadata": {},
   "outputs": [
    {
     "data": {
      "text/plain": [
       "<matplotlib.text.Text at 0x7ff89630b160>"
      ]
     },
     "execution_count": 3,
     "metadata": {},
     "output_type": "execute_result"
    }
   ],
   "source": [
    "recent_grads['Median'].plot(kind='hist')\n",
    "ax=recent_grads['Median'].plot(kind='hist')\n",
    "ax.set_title('Median')"
   ]
  },
  {
   "cell_type": "code",
   "execution_count": 4,
   "metadata": {},
   "outputs": [
    {
     "data": {
      "text/plain": [
       "<matplotlib.text.Text at 0x7ff89630b160>"
      ]
     },
     "execution_count": 4,
     "metadata": {},
     "output_type": "execute_result"
    }
   ],
   "source": [
    "recent_grads['Full_time'].plot(kind='hist')\n",
    "ax=recent_grads['Full_time'].plot(kind='hist')\n",
    "ax.set_title('Full_time')"
   ]
  },
  {
   "cell_type": "code",
   "execution_count": 5,
   "metadata": {},
   "outputs": [
    {
     "data": {
      "text/plain": [
       "<matplotlib.text.Text at 0x7ff89630b160>"
      ]
     },
     "execution_count": 5,
     "metadata": {},
     "output_type": "execute_result"
    }
   ],
   "source": [
    "recent_grads['ShareWomen'].plot(kind='hist')\n",
    "ax=recent_grads['ShareWomen'].plot(kind='hist')\n",
    "ax.set_title('ShareWomen')"
   ]
  },
  {
   "cell_type": "code",
   "execution_count": 6,
   "metadata": {},
   "outputs": [
    {
     "data": {
      "text/plain": [
       "<matplotlib.text.Text at 0x7ff89630b160>"
      ]
     },
     "execution_count": 6,
     "metadata": {},
     "output_type": "execute_result"
    }
   ],
   "source": [
    "recent_grads['Unemployment_rate'].plot(kind='hist')\n",
    "ax=recent_grads['Unemployment_rate'].plot(kind='hist')\n",
    "ax.set_title('Unemployment_rate')"
   ]
  },
  {
   "cell_type": "code",
   "execution_count": 7,
   "metadata": {},
   "outputs": [
    {
     "data": {
      "text/plain": [
       "<matplotlib.text.Text at 0x7ff89630b160>"
      ]
     },
     "execution_count": 7,
     "metadata": {},
     "output_type": "execute_result"
    }
   ],
   "source": [
    "recent_grads['Men'].plot(kind='hist')\n",
    "ax=recent_grads['Men'].plot(kind='hist')\n",
    "ax.set_title('Men')"
   ]
  },
  {
   "cell_type": "code",
   "execution_count": 8,
   "metadata": {},
   "outputs": [
    {
     "data": {
      "text/plain": [
       "<matplotlib.text.Text at 0x7ff89630b160>"
      ]
     },
     "execution_count": 8,
     "metadata": {},
     "output_type": "execute_result"
    }
   ],
   "source": [
    "recent_grads['Women'].plot(kind='hist')\n",
    "ax=recent_grads['Women'].plot(kind='hist')\n",
    "ax.set_title('Women')"
   ]
  },
  {
   "cell_type": "code",
   "execution_count": 12,
   "metadata": {},
   "outputs": [
    {
     "data": {
      "text/plain": [
       "array([[<matplotlib.axes._subplots.AxesSubplot object at 0x7ff895fe07f0>,\n",
       "        <matplotlib.axes._subplots.AxesSubplot object at 0x7ff893f25898>],\n",
       "       [<matplotlib.axes._subplots.AxesSubplot object at 0x7ff893e709e8>,\n",
       "        <matplotlib.axes._subplots.AxesSubplot object at 0x7ff893e2e4a8>]],\n",
       "      dtype=object)"
      ]
     },
     "execution_count": 12,
     "metadata": {},
     "output_type": "execute_result"
    }
   ],
   "source": [
    "from pandas.plotting import scatter_matrix\n",
    "scatter_matrix(recent_grads[['Sample_size', 'Median']],figsize=(10,10))"
   ]
  },
  {
   "cell_type": "code",
   "execution_count": 13,
   "metadata": {},
   "outputs": [
    {
     "data": {
      "text/plain": [
       "array([[<matplotlib.axes._subplots.AxesSubplot object at 0x7ff893e42160>,\n",
       "        <matplotlib.axes._subplots.AxesSubplot object at 0x7ff893d9afd0>,\n",
       "        <matplotlib.axes._subplots.AxesSubplot object at 0x7ff893d506d8>],\n",
       "       [<matplotlib.axes._subplots.AxesSubplot object at 0x7ff893d1bba8>,\n",
       "        <matplotlib.axes._subplots.AxesSubplot object at 0x7ff893cd9390>,\n",
       "        <matplotlib.axes._subplots.AxesSubplot object at 0x7ff893ca24e0>],\n",
       "       [<matplotlib.axes._subplots.AxesSubplot object at 0x7ff893c631d0>,\n",
       "        <matplotlib.axes._subplots.AxesSubplot object at 0x7ff893baaba8>,\n",
       "        <matplotlib.axes._subplots.AxesSubplot object at 0x7ff893bc4f98>]],\n",
       "      dtype=object)"
      ]
     },
     "execution_count": 13,
     "metadata": {},
     "output_type": "execute_result"
    }
   ],
   "source": [
    "from pandas.plotting import scatter_matrix\n",
    "scatter_matrix(recent_grads[['Sample_size', 'Median','Unemployment_rate']],figsize=(10,10))"
   ]
  },
  {
   "cell_type": "markdown",
   "metadata": {},
   "source": [
    "Explain"
   ]
  },
  {
   "cell_type": "code",
   "execution_count": 15,
   "metadata": {},
   "outputs": [
    {
     "data": {
      "text/plain": [
       "<matplotlib.axes._subplots.AxesSubplot at 0x7ff893a1cda0>"
      ]
     },
     "execution_count": 15,
     "metadata": {},
     "output_type": "execute_result"
    }
   ],
   "source": [
    "recent_grads[:10].plot.bar(x='Major', y='ShareWomen', legend=False)\n",
    "recent_grads[163:].plot.bar(x='Major', y='ShareWomen', legend=False)"
   ]
  },
  {
   "cell_type": "code",
   "execution_count": null,
   "metadata": {
    "collapsed": true
   },
   "outputs": [],
   "source": []
  }
 ],
 "metadata": {
  "kernelspec": {
   "display_name": "Python 3",
   "language": "python",
   "name": "python3"
  },
  "language_info": {
   "codemirror_mode": {
    "name": "ipython",
    "version": 3
   },
   "file_extension": ".py",
   "mimetype": "text/x-python",
   "name": "python",
   "nbconvert_exporter": "python",
   "pygments_lexer": "ipython3",
   "version": "3.7.3"
  }
 },
 "nbformat": 4,
 "nbformat_minor": 1
}
