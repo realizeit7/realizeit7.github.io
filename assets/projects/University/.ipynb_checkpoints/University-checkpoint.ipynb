{
 "cells": [
  {
   "cell_type": "markdown",
   "metadata": {
    "colab_type": "text",
    "id": "aXpIRSAQ-cw1"
   },
   "source": [
    "# University Name Matching using DeepMatcher\n"
   ]
  },
  {
   "cell_type": "markdown",
   "metadata": {},
   "source": [
    "This Project is to develop university name matcher which matches different form of university names to be classfied into the right school name. For example, The Ohio State University can be written as osu, ohio state , ohio state university and so on. However, they are indicating same school. But in terms of resume and job application, people do not use standardized form. So, if it is possible to automatically match those names, it will be helpful to process the school information."
   ]
  },
  {
   "cell_type": "markdown",
   "metadata": {
    "colab_type": "text",
    "id": "sBtZVvrSQJOf"
   },
   "source": [
    "## Step 0. Setup\n",
    "\n",
    "If you are running this notebook inside Colab, you will first need to install necessary packages by running the code below:"
   ]
  },
  {
   "cell_type": "code",
   "execution_count": 1,
   "metadata": {
    "colab": {
     "autoexec": {
      "startup": false,
      "wait_interval": 0
     },
     "base_uri": "https://localhost:8080/",
     "height": 17
    },
    "colab_type": "code",
    "executionInfo": {
     "elapsed": 82136,
     "status": "ok",
     "timestamp": 1524617064270,
     "user": {
      "displayName": "",
      "photoUrl": "",
      "userId": ""
     },
     "user_tz": 300
    },
    "id": "LEiDiDNz-PEG",
    "outputId": "3af884c1-b09b-4659-89da-eb1c24c811c7"
   },
   "outputs": [],
   "source": [
    "try:\n",
    "    import deepmatcher\n",
    "except:\n",
    "    !pip install -qqq deepmatcher"
   ]
  },
  {
   "cell_type": "markdown",
   "metadata": {
    "colab_type": "text",
    "id": "D1Hmd9LXQJOk"
   },
   "source": [
    "Now let's import `deepmatcher` which will do all the heavy lifting to build and train neural network models for entity matching. "
   ]
  },
  {
   "cell_type": "code",
   "execution_count": 2,
   "metadata": {
    "colab": {
     "autoexec": {
      "startup": false,
      "wait_interval": 0
     },
     "base_uri": "https://localhost:8080/",
     "height": 17
    },
    "colab_type": "code",
    "executionInfo": {
     "elapsed": 6623,
     "status": "ok",
     "timestamp": 1524617080672,
     "user": {
      "displayName": "",
      "photoUrl": "",
      "userId": ""
     },
     "user_tz": 300
    },
    "id": "0422OsKBQJOk",
    "outputId": "1f39e87e-380f-4ce2-95bd-bea04867553e"
   },
   "outputs": [],
   "source": [
    "import deepmatcher as dm"
   ]
  },
  {
   "cell_type": "markdown",
   "metadata": {
    "colab_type": "text",
    "id": "g6inOGkQQJOn"
   },
   "source": [
    "We recommend having a GPU available for the training in Step 4. In case a GPU is not available, we will use all available CPU cores. You can run the following command to determine if a GPU is available and will be used for training:"
   ]
  },
  {
   "cell_type": "code",
   "execution_count": 3,
   "metadata": {
    "colab": {
     "autoexec": {
      "startup": false,
      "wait_interval": 0
     },
     "base_uri": "https://localhost:8080/",
     "height": 34
    },
    "colab_type": "code",
    "executionInfo": {
     "elapsed": 289,
     "status": "ok",
     "timestamp": 1524617081918,
     "user": {
      "displayName": "",
      "photoUrl": "",
      "userId": ""
     },
     "user_tz": 300
    },
    "id": "GYb5r0etQJOo",
    "outputId": "ec451859-b108-4b36-effe-48b62ccb04a4"
   },
   "outputs": [
    {
     "data": {
      "text/plain": [
       "False"
      ]
     },
     "execution_count": 3,
     "metadata": {},
     "output_type": "execute_result"
    }
   ],
   "source": [
    "import torch\n",
    "torch.cuda.is_available()"
   ]
  },
  {
   "cell_type": "markdown",
   "metadata": {
    "colab_type": "text",
    "id": "lu6QgmbDQJOv"
   },
   "source": [
    "To get an idea of how our data looks like, let's take a peek at the training dataset:"
   ]
  },
  {
   "cell_type": "code",
   "execution_count": 4,
   "metadata": {
    "colab": {
     "autoexec": {
      "startup": false,
      "wait_interval": 0
     },
     "base_uri": "https://localhost:8080/",
     "height": 425
    },
    "colab_type": "code",
    "executionInfo": {
     "elapsed": 314,
     "status": "ok",
     "timestamp": 1524617124996,
     "user": {
      "displayName": "",
      "photoUrl": "",
      "userId": ""
     },
     "user_tz": 300
    },
    "id": "lpsH6NEZQJOw",
    "outputId": "358b276f-f91a-412b-ea2f-54fc567b8a36"
   },
   "outputs": [
    {
     "data": {
      "text/html": [
       "<div>\n",
       "<style scoped>\n",
       "    .dataframe tbody tr th:only-of-type {\n",
       "        vertical-align: middle;\n",
       "    }\n",
       "\n",
       "    .dataframe tbody tr th {\n",
       "        vertical-align: top;\n",
       "    }\n",
       "\n",
       "    .dataframe thead th {\n",
       "        text-align: right;\n",
       "    }\n",
       "</style>\n",
       "<table border=\"1\" class=\"dataframe\">\n",
       "  <thead>\n",
       "    <tr style=\"text-align: right;\">\n",
       "      <th></th>\n",
       "      <th>label</th>\n",
       "      <th>left_School_Name</th>\n",
       "      <th>right_School_Name</th>\n",
       "      <th>id</th>\n",
       "    </tr>\n",
       "  </thead>\n",
       "  <tbody>\n",
       "    <tr>\n",
       "      <th>0</th>\n",
       "      <td>1</td>\n",
       "      <td>A. D. PATEL INSTITUTE OF TECHNOLOGY, Anand, India</td>\n",
       "      <td>A.D. Patel Institute of Technology</td>\n",
       "      <td>1</td>\n",
       "    </tr>\n",
       "    <tr>\n",
       "      <th>1</th>\n",
       "      <td>1</td>\n",
       "      <td>A.D. Patel Institute of Technology</td>\n",
       "      <td>A.D. Patel Institute of Technology</td>\n",
       "      <td>2</td>\n",
       "    </tr>\n",
       "    <tr>\n",
       "      <th>2</th>\n",
       "      <td>1</td>\n",
       "      <td>A.T. Still University</td>\n",
       "      <td>A.T. Still University</td>\n",
       "      <td>3</td>\n",
       "    </tr>\n",
       "    <tr>\n",
       "      <th>3</th>\n",
       "      <td>1</td>\n",
       "      <td>ABE International Business College</td>\n",
       "      <td>ABE International Business College</td>\n",
       "      <td>4</td>\n",
       "    </tr>\n",
       "    <tr>\n",
       "      <th>4</th>\n",
       "      <td>1</td>\n",
       "      <td>ACLC College of Butuan City</td>\n",
       "      <td>ACLC College of Butuan City</td>\n",
       "      <td>5</td>\n",
       "    </tr>\n",
       "  </tbody>\n",
       "</table>\n",
       "</div>"
      ],
      "text/plain": [
       "   label                                   left_School_Name  \\\n",
       "0      1  A. D. PATEL INSTITUTE OF TECHNOLOGY, Anand, India   \n",
       "1      1                 A.D. Patel Institute of Technology   \n",
       "2      1                              A.T. Still University   \n",
       "3      1                 ABE International Business College   \n",
       "4      1                        ACLC College of Butuan City   \n",
       "\n",
       "                    right_School_Name  id  \n",
       "0  A.D. Patel Institute of Technology   1  \n",
       "1  A.D. Patel Institute of Technology   2  \n",
       "2               A.T. Still University   3  \n",
       "3  ABE International Business College   4  \n",
       "4         ACLC College of Butuan City   5  "
      ]
     },
     "execution_count": 4,
     "metadata": {},
     "output_type": "execute_result"
    }
   ],
   "source": [
    "import pandas as pd\n",
    "pd.read_csv('/Users/seowookchoi/Desktop/entity/University/train.csv').head()"
   ]
  },
  {
   "cell_type": "code",
   "execution_count": 5,
   "metadata": {
    "colab": {
     "autoexec": {
      "startup": false,
      "wait_interval": 0
     },
     "base_uri": "https://localhost:8080/",
     "height": 227
    },
    "colab_type": "code",
    "executionInfo": {
     "elapsed": 120549,
     "status": "ok",
     "timestamp": 1524617249949,
     "user": {
      "displayName": "",
      "photoUrl": "",
      "userId": ""
     },
     "user_tz": 300
    },
    "id": "WJ37wi1HC9EJ",
    "outputId": "6c19622b-1d60-4e01-e810-6ad99173040c"
   },
   "outputs": [],
   "source": [
    "train, validation, test = dm.data.process(\n",
    "    path='/Users/seowookchoi/Desktop/entity/University',\n",
    "    train='train.csv',\n",
    "    validation='validation.csv',\n",
    "    test='test.csv')"
   ]
  },
  {
   "cell_type": "markdown",
   "metadata": {
    "colab_type": "text",
    "id": "4RCEIm8MQJO3"
   },
   "source": [
    "#### Peeking at processed data\n",
    "Make all letters in lower case."
   ]
  },
  {
   "cell_type": "code",
   "execution_count": 6,
   "metadata": {
    "colab": {
     "autoexec": {
      "startup": false,
      "wait_interval": 0
     },
     "base_uri": "https://localhost:8080/",
     "height": 460
    },
    "colab_type": "code",
    "executionInfo": {
     "elapsed": 333,
     "status": "ok",
     "timestamp": 1524617336979,
     "user": {
      "displayName": "",
      "photoUrl": "",
      "userId": ""
     },
     "user_tz": 300
    },
    "id": "qmkzAzWOQJO3",
    "outputId": "35aed066-c9d9-406b-e6cc-ce7dcd27029a"
   },
   "outputs": [
    {
     "data": {
      "text/html": [
       "<div>\n",
       "<style scoped>\n",
       "    .dataframe tbody tr th:only-of-type {\n",
       "        vertical-align: middle;\n",
       "    }\n",
       "\n",
       "    .dataframe tbody tr th {\n",
       "        vertical-align: top;\n",
       "    }\n",
       "\n",
       "    .dataframe thead th {\n",
       "        text-align: right;\n",
       "    }\n",
       "</style>\n",
       "<table border=\"1\" class=\"dataframe\">\n",
       "  <thead>\n",
       "    <tr style=\"text-align: right;\">\n",
       "      <th></th>\n",
       "      <th>label</th>\n",
       "      <th>left_School_Name</th>\n",
       "      <th>right_School_Name</th>\n",
       "      <th>id</th>\n",
       "    </tr>\n",
       "  </thead>\n",
       "  <tbody>\n",
       "    <tr>\n",
       "      <th>0</th>\n",
       "      <td>1</td>\n",
       "      <td>a. d. patel institute of technology , anand , ...</td>\n",
       "      <td>a.d. patel institute of technology</td>\n",
       "      <td>1</td>\n",
       "    </tr>\n",
       "    <tr>\n",
       "      <th>1</th>\n",
       "      <td>1</td>\n",
       "      <td>a.d. patel institute of technology</td>\n",
       "      <td>a.d. patel institute of technology</td>\n",
       "      <td>2</td>\n",
       "    </tr>\n",
       "    <tr>\n",
       "      <th>2</th>\n",
       "      <td>1</td>\n",
       "      <td>a.t . still university</td>\n",
       "      <td>a.t . still university</td>\n",
       "      <td>3</td>\n",
       "    </tr>\n",
       "    <tr>\n",
       "      <th>3</th>\n",
       "      <td>1</td>\n",
       "      <td>abe international business college</td>\n",
       "      <td>abe international business college</td>\n",
       "      <td>4</td>\n",
       "    </tr>\n",
       "    <tr>\n",
       "      <th>4</th>\n",
       "      <td>1</td>\n",
       "      <td>aclc college of butuan city</td>\n",
       "      <td>aclc college of butuan city</td>\n",
       "      <td>5</td>\n",
       "    </tr>\n",
       "  </tbody>\n",
       "</table>\n",
       "</div>"
      ],
      "text/plain": [
       "   label                                   left_School_Name  \\\n",
       "0      1  a. d. patel institute of technology , anand , ...   \n",
       "1      1                 a.d. patel institute of technology   \n",
       "2      1                             a.t . still university   \n",
       "3      1                 abe international business college   \n",
       "4      1                        aclc college of butuan city   \n",
       "\n",
       "                    right_School_Name id  \n",
       "0  a.d. patel institute of technology  1  \n",
       "1  a.d. patel institute of technology  2  \n",
       "2              a.t . still university  3  \n",
       "3  abe international business college  4  \n",
       "4         aclc college of butuan city  5  "
      ]
     },
     "execution_count": 6,
     "metadata": {},
     "output_type": "execute_result"
    }
   ],
   "source": [
    "train_table = train.get_raw_table()\n",
    "train_table.head()"
   ]
  },
  {
   "cell_type": "markdown",
   "metadata": {
    "colab_type": "text",
    "id": "hpo4JpshQJO6"
   },
   "source": [
    "The processed attribute values have been tokenized and lowercased so they may not look exactly the same as the input training data. These modifications help the neural network generalize better, i.e., perform better on data not trained on. "
   ]
  },
  {
   "cell_type": "markdown",
   "metadata": {
    "colab_type": "text",
    "id": "8mr3oVzuQJO6"
   },
   "source": [
    "## Step 2. Define neural network model\n"
   ]
  },
  {
   "cell_type": "code",
   "execution_count": 7,
   "metadata": {
    "colab": {
     "autoexec": {
      "startup": false,
      "wait_interval": 0
     },
     "base_uri": "https://localhost:8080/",
     "height": 17
    },
    "colab_type": "code",
    "executionInfo": {
     "elapsed": 234,
     "status": "ok",
     "timestamp": 1524617340683,
     "user": {
      "displayName": "",
      "photoUrl": "",
      "userId": ""
     },
     "user_tz": 300
    },
    "id": "NwUE2jMXQJO7",
    "outputId": "e05a0482-944b-4a68-a1c4-32e40ba3f17a"
   },
   "outputs": [],
   "source": [
    "model = dm.MatchingModel(attr_summarizer='hybrid')"
   ]
  },
  {
   "cell_type": "markdown",
   "metadata": {
    "colab_type": "text",
    "id": "7iLAHpuVQJO9"
   },
   "source": [
    "## Step 3. Train model\n"
   ]
  },
  {
   "cell_type": "code",
   "execution_count": 8,
   "metadata": {
    "colab": {
     "autoexec": {
      "startup": false,
      "wait_interval": 0
     },
     "base_uri": "https://localhost:8080/",
     "height": 2815
    },
    "colab_type": "code",
    "executionInfo": {
     "elapsed": 297777,
     "status": "ok",
     "timestamp": 1524617643666,
     "user": {
      "displayName": "",
      "photoUrl": "",
      "userId": ""
     },
     "user_tz": 300
    },
    "id": "RIZclsK1QJO-",
    "outputId": "f2ce7d13-0bd4-454e-aafc-d19af02e92b0"
   },
   "outputs": [
    {
     "name": "stdout",
     "output_type": "stream",
     "text": [
      "* Number of trainable parameters: 2798703\n",
      "===>  TRAIN Epoch 1\n"
     ]
    },
    {
     "name": "stderr",
     "output_type": "stream",
     "text": [
      "0% [██████████████████████████████] 100% | ETA: 00:00:00\n",
      "Total time elapsed: 06:49:13\n"
     ]
    },
    {
     "name": "stdout",
     "output_type": "stream",
     "text": [
      "Finished Epoch 1 || Run Time: 24471.7 | Load Time:   82.3 || F1:  88.30 | Prec:  87.86 | Rec:  88.74 || Ex/s:  77.80\n",
      "\n",
      "===>  EVAL Epoch 1\n"
     ]
    },
    {
     "name": "stderr",
     "output_type": "stream",
     "text": [
      "0% [██████████████████████████████] 100% | ETA: 00:00:00\n",
      "Total time elapsed: 00:34:06\n"
     ]
    },
    {
     "name": "stdout",
     "output_type": "stream",
     "text": [
      "Finished Epoch 1 || Run Time: 2025.3 | Load Time:   21.2 || F1:  88.80 | Prec:  91.76 | Rec:  86.04 || Ex/s: 303.26\n",
      "\n",
      "* Best F1: 88.80490467792055\n",
      "Saving best model...\n",
      "Done.\n",
      "---------------------\n",
      "\n",
      "===>  TRAIN Epoch 2\n"
     ]
    },
    {
     "name": "stderr",
     "output_type": "stream",
     "text": [
      "0% [██████████████████████████████] 100% | ETA: 00:00:00\n",
      "Total time elapsed: 07:54:07\n"
     ]
    },
    {
     "name": "stdout",
     "output_type": "stream",
     "text": [
      "Finished Epoch 2 || Run Time: 28373.8 | Load Time:   74.6 || F1:  90.44 | Prec:  90.90 | Rec:  89.99 || Ex/s:  67.15\n",
      "\n",
      "===>  EVAL Epoch 2\n"
     ]
    },
    {
     "name": "stderr",
     "output_type": "stream",
     "text": [
      "0% [██████████████████████████████] 100% | ETA: 00:00:00\n",
      "Total time elapsed: 00:28:44\n"
     ]
    },
    {
     "name": "stdout",
     "output_type": "stream",
     "text": [
      "Finished Epoch 2 || Run Time: 1707.8 | Load Time:   16.4 || F1:  87.10 | Prec:  94.76 | Rec:  80.59 || Ex/s: 359.96\n",
      "\n",
      "---------------------\n",
      "\n",
      "===>  TRAIN Epoch 3\n"
     ]
    },
    {
     "name": "stderr",
     "output_type": "stream",
     "text": [
      "0% [██████████████████████████████] 100% | ETA: 00:00:00\n",
      "Total time elapsed: 13:28:20\n"
     ]
    },
    {
     "name": "stdout",
     "output_type": "stream",
     "text": [
      "Finished Epoch 3 || Run Time: 48420.8 | Load Time:   80.9 || F1:  89.96 | Prec:  91.01 | Rec:  88.93 || Ex/s:  39.38\n",
      "\n",
      "===>  EVAL Epoch 3\n"
     ]
    },
    {
     "name": "stderr",
     "output_type": "stream",
     "text": [
      "0% [██████████████████████████████] 100% | ETA: 00:00:00\n",
      "Total time elapsed: 00:28:41\n"
     ]
    },
    {
     "name": "stdout",
     "output_type": "stream",
     "text": [
      "Finished Epoch 3 || Run Time: 1703.8 | Load Time:   18.0 || F1:  90.13 | Prec:  95.80 | Rec:  85.09 || Ex/s: 360.46\n",
      "\n",
      "* Best F1: 90.13186244936654\n",
      "Saving best model...\n",
      "Done.\n",
      "---------------------\n",
      "\n",
      "===>  TRAIN Epoch 4\n"
     ]
    },
    {
     "name": "stderr",
     "output_type": "stream",
     "text": [
      "0% [██████████████████████████████] 100% | ETA: 00:00:00\n",
      "Total time elapsed: 11:31:29\n"
     ]
    },
    {
     "name": "stdout",
     "output_type": "stream",
     "text": [
      "Finished Epoch 4 || Run Time: 41418.7 | Load Time:   72.9 || F1:  90.64 | Prec:  91.75 | Rec:  89.56 || Ex/s:  46.04\n",
      "\n",
      "===>  EVAL Epoch 4\n"
     ]
    },
    {
     "name": "stderr",
     "output_type": "stream",
     "text": [
      "0% [██████████████████████████████] 100% | ETA: 00:00:00\n",
      "Total time elapsed: 00:28:55\n"
     ]
    },
    {
     "name": "stdout",
     "output_type": "stream",
     "text": [
      "Finished Epoch 4 || Run Time: 1718.7 | Load Time:   16.4 || F1:  91.85 | Prec:  95.36 | Rec:  88.59 || Ex/s: 357.70\n",
      "\n",
      "* Best F1: 91.850852033069\n",
      "Saving best model...\n",
      "Done.\n",
      "---------------------\n",
      "\n",
      "===>  TRAIN Epoch 5\n"
     ]
    },
    {
     "name": "stderr",
     "output_type": "stream",
     "text": [
      "0% [██████████████████████████████] 100% | ETA: 00:00:00\n",
      "Total time elapsed: 11:37:59\n"
     ]
    },
    {
     "name": "stdout",
     "output_type": "stream",
     "text": [
      "Finished Epoch 5 || Run Time: 41807.8 | Load Time:   73.2 || F1:  92.20 | Prec:  93.56 | Rec:  90.89 || Ex/s:  45.61\n",
      "\n",
      "===>  EVAL Epoch 5\n"
     ]
    },
    {
     "name": "stderr",
     "output_type": "stream",
     "text": [
      "0% [██████████████████████████████] 100% | ETA: 00:00:00\n",
      "Total time elapsed: 00:28:49\n"
     ]
    },
    {
     "name": "stdout",
     "output_type": "stream",
     "text": [
      "Finished Epoch 5 || Run Time: 1712.8 | Load Time:   16.4 || F1:  93.10 | Prec:  95.81 | Rec:  90.53 || Ex/s: 358.93\n",
      "\n",
      "* Best F1: 93.0968119822609\n",
      "Saving best model...\n",
      "Done.\n",
      "---------------------\n",
      "\n",
      "Loading best model...\n",
      "Training done.\n"
     ]
    },
    {
     "data": {
      "text/plain": [
       "93.0968119822609"
      ]
     },
     "execution_count": 8,
     "metadata": {},
     "output_type": "execute_result"
    }
   ],
   "source": [
    "model.run_train(\n",
    "    train,\n",
    "    validation,\n",
    "    epochs=5,\n",
    "    batch_size=16,\n",
    "    best_save_path='hybrid_model.pth',\n",
    "    pos_neg_ratio=3)"
   ]
  },
  {
   "cell_type": "markdown",
   "metadata": {
    "colab_type": "text",
    "id": "lejVqpjAQJPD"
   },
   "source": [
    "## Step 4. Apply model to test data\n",
    "\n",
    "### Evaluating on test data\n",
    "Now that we have a trained model for entity matching, we can now evaluate its accuracy on test data, to estimate the performance of the model on unlabeled data."
   ]
  },
  {
   "cell_type": "code",
   "execution_count": 9,
   "metadata": {
    "colab": {
     "autoexec": {
      "startup": false,
      "wait_interval": 0
     },
     "base_uri": "https://localhost:8080/",
     "height": 86
    },
    "colab_type": "code",
    "executionInfo": {
     "elapsed": 2111,
     "status": "ok",
     "timestamp": 1524617885197,
     "user": {
      "displayName": "",
      "photoUrl": "",
      "userId": ""
     },
     "user_tz": 300
    },
    "id": "jLoneAI_QJPD",
    "outputId": "2d8a56e0-8ab9-4826-a09f-ffa838eb4eed"
   },
   "outputs": [
    {
     "name": "stdout",
     "output_type": "stream",
     "text": [
      "===>  EVAL Epoch 5\n"
     ]
    },
    {
     "name": "stderr",
     "output_type": "stream",
     "text": [
      "0% [██████████████████████████████] 100% | ETA: 00:00:00\n",
      "Total time elapsed: 00:26:12\n"
     ]
    },
    {
     "name": "stdout",
     "output_type": "stream",
     "text": [
      "Finished Epoch 5 || Run Time: 1558.2 | Load Time:   14.8 || F1:  92.87 | Prec:  95.03 | Rec:  90.80 || Ex/s: 404.18\n",
      "\n"
     ]
    },
    {
     "data": {
      "text/plain": [
       "92.86758732737611"
      ]
     },
     "execution_count": 9,
     "metadata": {},
     "output_type": "execute_result"
    }
   ],
   "source": [
    "# Compute F1 on test set\n",
    "model.run_eval(test)"
   ]
  },
  {
   "cell_type": "markdown",
   "metadata": {
    "colab_type": "text",
    "id": "3Xo0ULsqQJPX"
   },
   "source": [
    "#### Getting predictions on labeled data\n",
    "\n",
    "You can also get predictions for labeled data such as validation data. To do so, you can simply call the `run_prediction` method passing the validation data as argument."
   ]
  },
  {
   "cell_type": "code",
   "execution_count": 14,
   "metadata": {
    "colab": {
     "autoexec": {
      "startup": false,
      "wait_interval": 0
     },
     "base_uri": "https://localhost:8080/",
     "height": 490
    },
    "colab_type": "code",
    "executionInfo": {
     "elapsed": 2330,
     "status": "ok",
     "timestamp": 1524617938346,
     "user": {
      "displayName": "",
      "photoUrl": "",
      "userId": ""
     },
     "user_tz": 300
    },
    "id": "iXvu3exAQJPY",
    "outputId": "0491b0fc-0fcd-416e-a3b4-9360fe052c7f"
   },
   "outputs": [
    {
     "name": "stdout",
     "output_type": "stream",
     "text": [
      "===>  PREDICT Epoch 5\n"
     ]
    },
    {
     "name": "stderr",
     "output_type": "stream",
     "text": [
      "0% [██████████████████████████████] 100% | ETA: 00:00:00\n",
      "Total time elapsed: 00:29:54\n"
     ]
    },
    {
     "name": "stdout",
     "output_type": "stream",
     "text": [
      "Finished Epoch 5 || Run Time: 1771.0 | Load Time:   23.4 || F1:  93.14 | Prec:  95.74 | Rec:  90.68 || Ex/s: 345.87\n",
      "\n"
     ]
    },
    {
     "data": {
      "text/html": [
       "<div>\n",
       "<style scoped>\n",
       "    .dataframe tbody tr th:only-of-type {\n",
       "        vertical-align: middle;\n",
       "    }\n",
       "\n",
       "    .dataframe tbody tr th {\n",
       "        vertical-align: top;\n",
       "    }\n",
       "\n",
       "    .dataframe thead th {\n",
       "        text-align: right;\n",
       "    }\n",
       "</style>\n",
       "<table border=\"1\" class=\"dataframe\">\n",
       "  <thead>\n",
       "    <tr style=\"text-align: right;\">\n",
       "      <th></th>\n",
       "      <th>match_score</th>\n",
       "      <th>label</th>\n",
       "      <th>left_School_Name</th>\n",
       "      <th>right_School_Name</th>\n",
       "    </tr>\n",
       "    <tr>\n",
       "      <th>id</th>\n",
       "      <th></th>\n",
       "      <th></th>\n",
       "      <th></th>\n",
       "      <th></th>\n",
       "    </tr>\n",
       "  </thead>\n",
       "  <tbody>\n",
       "    <tr>\n",
       "      <th>1</th>\n",
       "      <td>0.979907</td>\n",
       "      <td>1</td>\n",
       "      <td>ACMCL College</td>\n",
       "      <td>ACMCL College</td>\n",
       "    </tr>\n",
       "    <tr>\n",
       "      <th>2</th>\n",
       "      <td>0.975900</td>\n",
       "      <td>1</td>\n",
       "      <td>MY - AIMST University</td>\n",
       "      <td>AIMST University</td>\n",
       "    </tr>\n",
       "    <tr>\n",
       "      <th>3</th>\n",
       "      <td>0.141378</td>\n",
       "      <td>1</td>\n",
       "      <td>Missouri S&amp;T</td>\n",
       "      <td>AIMST University</td>\n",
       "    </tr>\n",
       "    <tr>\n",
       "      <th>4</th>\n",
       "      <td>0.931575</td>\n",
       "      <td>1</td>\n",
       "      <td>AKS University, Satna AKSU</td>\n",
       "      <td>AKS University</td>\n",
       "    </tr>\n",
       "    <tr>\n",
       "      <th>5</th>\n",
       "      <td>0.990576</td>\n",
       "      <td>1</td>\n",
       "      <td>AKS University</td>\n",
       "      <td>AKS University</td>\n",
       "    </tr>\n",
       "  </tbody>\n",
       "</table>\n",
       "</div>"
      ],
      "text/plain": [
       "    match_score  label            left_School_Name right_School_Name\n",
       "id                                                                  \n",
       "1      0.979907      1               ACMCL College     ACMCL College\n",
       "2      0.975900      1       MY - AIMST University  AIMST University\n",
       "3      0.141378      1                Missouri S&T  AIMST University\n",
       "4      0.931575      1  AKS University, Satna AKSU    AKS University\n",
       "5      0.990576      1              AKS University    AKS University"
      ]
     },
     "execution_count": 14,
     "metadata": {},
     "output_type": "execute_result"
    }
   ],
   "source": [
    "valid_predictions = model.run_prediction(validation, output_attributes=True)\n",
    "valid_predictions.head()"
   ]
  },
  {
   "cell_type": "code",
   "execution_count": 16,
   "metadata": {},
   "outputs": [],
   "source": [
    "valid_predictions.to_csv('/Users/seowookchoi/Desktop/entity/University/valid_predictions.csv')"
   ]
  },
  {
   "cell_type": "markdown",
   "metadata": {},
   "source": [
    "Both of out of sample predictions shows F1 score about 93% which is pretty accruate. However, there are still plenty of room to be developed to perform better. Making model more complex will not make huge difference. There need to be better and more data set."
   ]
  }
 ],
 "metadata": {
  "accelerator": "GPU",
  "colab": {
   "collapsed_sections": [],
   "default_view": {},
   "name": "getting_started.ipynb",
   "provenance": [],
   "version": "0.3.2",
   "views": {}
  },
  "kernelspec": {
   "display_name": "Python 3",
   "language": "python",
   "name": "python3"
  },
  "language_info": {
   "codemirror_mode": {
    "name": "ipython",
    "version": 3
   },
   "file_extension": ".py",
   "mimetype": "text/x-python",
   "name": "python",
   "nbconvert_exporter": "python",
   "pygments_lexer": "ipython3",
   "version": "3.7.3"
  }
 },
 "nbformat": 4,
 "nbformat_minor": 1
}
